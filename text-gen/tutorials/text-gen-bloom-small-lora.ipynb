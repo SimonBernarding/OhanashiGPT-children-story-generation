{
 "cells": [
  {
   "cell_type": "markdown",
   "metadata": {},
   "source": [
    "### PEFT (Parameter-Efficient Fine Tuning) and LoRA (Low-rank Adaptation)"
   ]
  },
  {
   "cell_type": "markdown",
   "metadata": {},
   "source": [
    "The following is from the second notebook of Large-Language-Model-Notebooks-Course:\n",
    "\n",
    "https://github.com/peremartra/Large-Language-Model-Notebooks-Course/blob/main/5-Fine%20Tuning/5_2_LoRA_Tuning.ipynb"
   ]
  },
  {
   "cell_type": "code",
   "execution_count": null,
   "metadata": {},
   "outputs": [],
   "source": [
    "stories = True"
   ]
  },
  {
   "cell_type": "code",
   "execution_count": null,
   "metadata": {},
   "outputs": [],
   "source": [
    "!pip install -q peft==0.10.0\n",
    "!pip install -q datasets==2.19.0"
   ]
  },
  {
   "cell_type": "code",
   "execution_count": null,
   "metadata": {},
   "outputs": [],
   "source": [
    "from transformers import AutoModelForCausalLM, AutoTokenizer\n",
    "\n",
    "model_name = \"bigscience/bloomz-560m\"\n",
    "#model_name=\"bigscience/bloom-1b1\"\n",
    "target_modules = [\"query_key_value\"]\n",
    "\n",
    "#### model_name = \"ajibawa-2023/Young-Children-Storyteller-Mistral-7B\" # This model is HUGE!\n",
    "#model_name = 'mistralai/Mistral-7B-v0.1'\n",
    "#target_modules = [\"q_proj\", \"v_proj\"]\n",
    "\n",
    "\n",
    "#device = \"cuda\" \n",
    "#device = \"mps\"\n",
    "device = 'cpu'\n",
    "\n",
    "tokenizer = AutoTokenizer.from_pretrained(model_name)\n",
    "\n",
    "foundation_model = AutoModelForCausalLM.from_pretrained(model_name,\n",
    "                                                        device_map = device)"
   ]
  },
  {
   "cell_type": "markdown",
   "metadata": {},
   "source": [
    "### Inference with the pretrained model"
   ]
  },
  {
   "cell_type": "code",
   "execution_count": null,
   "metadata": {},
   "outputs": [],
   "source": [
    "#this function returns the outputs from the model received, and inputs.\n",
    "def get_outputs(model, inputs, max_new_tokens=100):\n",
    "\n",
    "    outputs = model.generate(\n",
    "        input_ids=inputs[\"input_ids\"],\n",
    "        attention_mask=inputs[\"attention_mask\"],\n",
    "        max_new_tokens=max_new_tokens,\n",
    "        repetition_penalty=1.5, #Avoid repetition.\n",
    "        #early_stopping=True, #The model can stop before reach the max_length\n",
    "\n",
    "        eos_token_id=tokenizer.eos_token_id\n",
    "    )\n",
    "    \n",
    "    return outputs"
   ]
  },
  {
   "cell_type": "code",
   "execution_count": null,
   "metadata": {},
   "outputs": [],
   "source": [
    "#Inference original model\n",
    "input_sentences = tokenizer(\"I want you to act as a motivational coach. \", return_tensors=\"pt\")\n",
    "\n",
    "foundational_outputs_sentence = get_outputs(foundation_model,\n",
    "                                            input_sentences.to(device),\n",
    "                                            max_new_tokens=50)\n",
    "\n",
    "print(tokenizer.batch_decode(foundational_outputs_sentence, skip_special_tokens=True))"
   ]
  },
  {
   "cell_type": "markdown",
   "metadata": {},
   "source": [
    "The completion does not look like a prompt. We need to train our model if we want that it acts like a prompt engineer."
   ]
  },
  {
   "cell_type": "code",
   "execution_count": null,
   "metadata": {},
   "outputs": [],
   "source": [
    "from datasets import load_dataset"
   ]
  },
  {
   "cell_type": "code",
   "execution_count": null,
   "metadata": {},
   "outputs": [],
   "source": [
    "if stories:\n",
    "    #get dataset: https://huggingface.co/datasets/lilithyu/kaggle-child-stories\n",
    "    dataset = \"lilithyu/kaggle-child-stories\"\n",
    "    #Create the Dataset \n",
    "    data = load_dataset(dataset)\n",
    "    data = data.map(lambda samples: tokenizer(samples[\"text\"]), batched=True)\n",
    "    train_sample = data[\"train\"].select(range(50))\n",
    "\n",
    "else:\n",
    "    # This is the original example for prompt generation\n",
    "\n",
    "    #get prompts from a dataset: https://huggingface.co/datasets/fka/awesome-chatgpt-prompts\n",
    "    dataset = \"fka/awesome-chatgpt-prompts\"\n",
    "    #Create the Dataset to create prompts.\n",
    "    data = load_dataset(dataset)\n",
    "    data = data.map(lambda samples: tokenizer(samples[\"prompt\"]), batched=True)\n",
    "    train_sample = data[\"train\"].select(range(50))\n",
    "    train_sample = train_sample.remove_columns('act')\n",
    "\n",
    "display(train_sample)"
   ]
  },
  {
   "cell_type": "code",
   "execution_count": null,
   "metadata": {},
   "outputs": [],
   "source": [
    "if stories:\n",
    "    select = 'text'\n",
    "else:\n",
    "    select = 'prompt'\n",
    "    \n",
    "train_sample[0][select]"
   ]
  },
  {
   "cell_type": "code",
   "execution_count": null,
   "metadata": {},
   "outputs": [],
   "source": [
    "train_sample[0]['input_ids']"
   ]
  },
  {
   "cell_type": "markdown",
   "metadata": {},
   "source": [
    "### Now the fine-tuning with LoRA"
   ]
  },
  {
   "cell_type": "code",
   "execution_count": null,
   "metadata": {},
   "outputs": [],
   "source": [
    "# create LoRA config\n",
    "import peft\n",
    "from peft import LoraConfig, get_peft_model, PeftModel\n",
    "\n",
    "lora_config = LoraConfig(\n",
    "    r=4, #The bigger the r the more parameters to train.\n",
    "    lora_alpha=1, # A multiplier controlling the overall strength of connections within a neural network, typically set at 1.\n",
    "    target_modules=target_modules, #You can obtain a list of target modules in the URL above.\n",
    "    lora_dropout=0.05, #Helps to avoid Overfitting.\n",
    "    bias=\"lora_only\", # Controls whether the bias term is adjusted alongside the model weights during training.\n",
    "    task_type=\"CAUSAL_LM\"\n",
    ")    "
   ]
  },
  {
   "cell_type": "code",
   "execution_count": null,
   "metadata": {},
   "outputs": [],
   "source": [
    "# create PEFT (Parameter-Efficient Fine-Tuning) model\n",
    "peft_model = get_peft_model(foundation_model, lora_config)\n",
    "print(peft_model.print_trainable_parameters())"
   ]
  },
  {
   "cell_type": "code",
   "execution_count": null,
   "metadata": {},
   "outputs": [],
   "source": [
    "#Create a directory to contain the Model\n",
    "import os\n",
    "working_dir = './'"
   ]
  },
  {
   "cell_type": "code",
   "execution_count": null,
   "metadata": {},
   "outputs": [],
   "source": [
    "if stories:\n",
    "    output_directory = os.path.join(working_dir, \"peft_story_outputs\")\n",
    "else:\n",
    "    output_directory = os.path.join(working_dir, \"peft_prompt_outputs\")    "
   ]
  },
  {
   "cell_type": "code",
   "execution_count": null,
   "metadata": {},
   "outputs": [],
   "source": [
    "#Creating the TrainingArgs\n",
    "import transformers\n",
    "from transformers import TrainingArguments, Trainer"
   ]
  },
  {
   "cell_type": "code",
   "execution_count": null,
   "metadata": {},
   "outputs": [],
   "source": [
    "training_args = TrainingArguments(\n",
    "    output_dir=output_directory,\n",
    "    auto_find_batch_size=True, # Find a correct batch size that fits the size of Data.\n",
    "    learning_rate= 3e-2, # The Learning Rate is usually higher than in full fine-tuning.\n",
    "    #optim=\"sgd\", #Use only to test a different optimizer\n",
    "    num_train_epochs=2,\n",
    "    use_cpu=True\n",
    ")"
   ]
  },
  {
   "cell_type": "markdown",
   "metadata": {},
   "source": [
    "Now we can train the model. To train the model we need:\n",
    "\n",
    "- The PEFT Model.\n",
    "- The training_args\n",
    "- The Dataset\n",
    "- The result of DataCollator, the Dataset ready to be procesed in blocks."
   ]
  },
  {
   "cell_type": "code",
   "execution_count": null,
   "metadata": {},
   "outputs": [],
   "source": [
    "#This cell may take up to 15 minutes to execute.\n",
    "trainer = Trainer(\n",
    "    model=peft_model,\n",
    "    args=training_args,\n",
    "    train_dataset=train_sample,\n",
    "    data_collator=transformers.DataCollatorForLanguageModeling(\n",
    "        tokenizer,\n",
    "        mlm=False)\n",
    ")\n",
    "trainer.train()"
   ]
  },
  {
   "cell_type": "code",
   "execution_count": null,
   "metadata": {},
   "outputs": [],
   "source": [
    "#Save the model.\n",
    "peft_model_path = os.path.join(output_directory, f\"lora_model\")\n",
    "\n",
    "trainer.model.save_pretrained(peft_model_path)"
   ]
  },
  {
   "cell_type": "code",
   "execution_count": null,
   "metadata": {},
   "outputs": [],
   "source": [
    "#Load the Model.\n",
    "loaded_model = PeftModel.from_pretrained(foundation_model,\n",
    "                                        peft_model_path,\n",
    "                                        is_trainable=False)\n",
    "loaded_model.to(device)"
   ]
  },
  {
   "cell_type": "markdown",
   "metadata": {},
   "source": [
    "### Inference with the fine-tuned model"
   ]
  },
  {
   "cell_type": "code",
   "execution_count": null,
   "metadata": {},
   "outputs": [],
   "source": [
    "input_sentences = tokenizer(\"I want you to act as a motivational coach. \", return_tensors=\"pt\")\n",
    "finetuned_outputs_sentence = get_outputs(loaded_model,\n",
    "                                          input_sentences.to(device),\n",
    "                                          max_new_tokens=50)\n",
    "\n",
    "print(tokenizer.batch_decode(finetuned_outputs_sentence, skip_special_tokens=True))"
   ]
  }
 ],
 "metadata": {
  "kernelspec": {
   "display_name": ".venv",
   "language": "python",
   "name": "python3"
  },
  "language_info": {
   "codemirror_mode": {
    "name": "ipython",
    "version": 3
   },
   "file_extension": ".py",
   "mimetype": "text/x-python",
   "name": "python",
   "nbconvert_exporter": "python",
   "pygments_lexer": "ipython3",
   "version": "3.11.3"
  }
 },
 "nbformat": 4,
 "nbformat_minor": 2
}
